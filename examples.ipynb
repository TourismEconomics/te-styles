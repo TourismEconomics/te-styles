{
 "cells": [
  {
   "cell_type": "code",
   "execution_count": 1,
   "source": [
    "import matplotlib.pyplot as plt\r\n",
    "import pandas as pd\r\n",
    "from testyles import styles\r\n",
    "from matplotlib.ticker import AutoMinorLocator\r\n",
    "import matplotlib.dates as mdates\r\n",
    "import datetime\r\n",
    "\r\n",
    "# Init styling with manual override\r\n",
    "styles.init_styles(r'C:\\Users\\jminchin\\code\\plot-styles\\oxfordeconomics.mplstyle')\r\n",
    "\r\n",
    "# Import Data (using sample data for now)\r\n",
    "df = pd.read_csv('https://github.com/selva86/datasets/raw/master/AirPassengers.csv')\r\n",
    "\r\n",
    "\r\n",
    "# Draw Plot\r\n",
    "plt.figure(figsize=(10,6), dpi= 150)\r\n",
    "ax = plt.gca()\r\n",
    "\r\n",
    "df['date'] = pd.to_datetime(df['date'])\r\n",
    "\r\n",
    "plt.plot(df['date'], df['value'])\r\n",
    "plt.plot(df['date'], df['value'] * 0.5, label=\"Series 1\")\r\n",
    "plt.plot(df['date'], df['value'] * 0.5, label=\"Series 2\")\r\n",
    "plt.plot(df['date'], df['value'] * 0.8, label=\"Series 3\")\r\n",
    "plt.plot(df['date'], df['value'] * 1.2, label=\"Series 4\")\r\n",
    "# Decoration\r\n",
    "plt.ylim(50, 750)\r\n",
    "plt.legend()\r\n",
    "\r\n",
    "ax.xaxis.set_major_locator(mdates.YearLocator(1, month=1))\r\n",
    "ax.xaxis.set_major_formatter(mdates.DateFormatter('%Y'))\r\n",
    "\r\n",
    "plt.xticks(rotation=0)\r\n",
    "\r\n",
    "plt.title(\"Air Passengers Traffic (1949 - 1969)\", loc=\"left\")\r\n",
    "\r\n",
    "plt.xlabel('Source: Oxford Economics', wrap=True, horizontalalignment='left', fontsize=8, x=0)\r\n",
    "\r\n",
    "plt.savefig('./examples/ts1.png', transparent=True)\r\n",
    "\r\n",
    "plt.show()"
   ],
   "outputs": [
    {
     "output_type": "error",
     "ename": "SyntaxError",
     "evalue": "(unicode error) 'unicodeescape' codec can't decode bytes in position 2-3: truncated \\UXXXXXXXX escape (Temp/ipykernel_18672/1353602266.py, line 9)",
     "traceback": [
      "\u001b[1;36m  File \u001b[1;32m\"C:\\Users\\jminchin\\AppData\\Local\\Temp/ipykernel_18672/1353602266.py\"\u001b[1;36m, line \u001b[1;32m9\u001b[0m\n\u001b[1;33m    styles.init_styles('C:\\Users\\jminchin\\code\\plot-styles\\oxfordeconomics.mplstyle')\u001b[0m\n\u001b[1;37m                       ^\u001b[0m\n\u001b[1;31mSyntaxError\u001b[0m\u001b[1;31m:\u001b[0m (unicode error) 'unicodeescape' codec can't decode bytes in position 2-3: truncated \\UXXXXXXXX escape\n"
     ]
    }
   ],
   "metadata": {}
  }
 ],
 "metadata": {
  "orig_nbformat": 4,
  "language_info": {
   "name": "python",
   "version": "3.8.11",
   "mimetype": "text/x-python",
   "codemirror_mode": {
    "name": "ipython",
    "version": 3
   },
   "pygments_lexer": "ipython3",
   "nbconvert_exporter": "python",
   "file_extension": ".py"
  },
  "kernelspec": {
   "name": "python3",
   "display_name": "Python 3.8.11 64-bit ('base': conda)"
  },
  "interpreter": {
   "hash": "125f3c5f36c3250b7e3a5274daa21afc10ba62a8688c36896fb54d7a818afa1e"
  }
 },
 "nbformat": 4,
 "nbformat_minor": 2
}